{
 "cells": [
  {
   "cell_type": "code",
   "execution_count": 3,
   "metadata": {
    "colab": {
     "base_uri": "https://localhost:8080/",
     "height": 357
    },
    "executionInfo": {
     "elapsed": 272,
     "status": "error",
     "timestamp": 1606844707283,
     "user": {
      "displayName": "Gerardo Licon",
      "photoUrl": "",
      "userId": "12009503027465810682"
     },
     "user_tz": 360
    },
    "id": "v6zeLFZaQ_mi",
    "outputId": "543c79ac-1af1-430d-c2d9-644b47031f3f"
   },
   "outputs": [],
   "source": [
    "import sys\n",
    "import pandas as pd\n",
    "\n",
    "import notebook_interface\n",
    "\n",
    "#Our implementation of classification algorithms\n",
    "import knns\n",
    "import neural_network"
   ]
  },
  {
   "cell_type": "markdown",
   "metadata": {
    "id": "A_tJaKX_3wC0"
   },
   "source": [
    "## Input csv file name (file must be in current directory):\n",
    "### iris.csv\n",
    "### wine.csv\n",
    "### wdbc.csv (breast cancer dataset)"
   ]
  },
  {
   "cell_type": "code",
   "execution_count": null,
   "metadata": {
    "colab": {
     "base_uri": "https://localhost:8080/"
    },
    "executionInfo": {
     "elapsed": 10983,
     "status": "ok",
     "timestamp": 1606844718005,
     "user": {
      "displayName": "Gerardo Licon",
      "photoUrl": "",
      "userId": "12009503027465810682"
     },
     "user_tz": 360
    },
    "id": "bDDqWEkxX76g",
    "outputId": "00a1c365-5945-4c80-e596-0fcb0da5a8e2"
   },
   "outputs": [],
   "source": [
    "#Dataset Selection\n",
    "file_name = notebook_interface.select_dataset()"
   ]
  },
  {
   "cell_type": "markdown",
   "metadata": {
    "id": "HPJ_Lzf54KUD"
   },
   "source": [
    "## Input index of column that contains values to be predicted (index starting at 0):\n"
   ]
  },
  {
   "cell_type": "code",
   "execution_count": null,
   "metadata": {
    "colab": {
     "base_uri": "https://localhost:8080/",
     "height": 539
    },
    "executionInfo": {
     "elapsed": 13307,
     "status": "error",
     "timestamp": 1606844720334,
     "user": {
      "displayName": "Gerardo Licon",
      "photoUrl": "",
      "userId": "12009503027465810682"
     },
     "user_tz": 360
    },
    "id": "WfgcXzjc4KfU",
    "outputId": "b34fa67b-f897-4a7f-9c5e-4324e9d83338"
   },
   "outputs": [],
   "source": [
    "# Classification Column Selection\n",
    "target = notebook_interface.select_classification_value(file_name)"
   ]
  },
  {
   "cell_type": "markdown",
   "metadata": {
    "id": "6al8ev1F3k4c"
   },
   "source": [
    "## Choose classification method (enter 1, 2, or 3):\n",
    "###1. KNN\n",
    "###2. Bayes\n",
    "###3. Neural Nets"
   ]
  },
  {
   "cell_type": "code",
   "execution_count": null,
   "metadata": {
    "executionInfo": {
     "elapsed": 13299,
     "status": "aborted",
     "timestamp": 1606844720331,
     "user": {
      "displayName": "Gerardo Licon",
      "photoUrl": "",
      "userId": "12009503027465810682"
     },
     "user_tz": 360
    },
    "id": "Dau30GkMRTV6"
   },
   "outputs": [],
   "source": [
    "print(\"Available classification methods:\\n1. KNN\\n2. Bayes\\n3. Neural Nets\")\n",
    "method = input(\"Which classification method? \\n\")\n",
    "\n",
    "#Choose classification method\n",
    "if method == '1':\n",
    "  clas = 'knn'\n",
    "elif method == '2':\n",
    "  clas = 'bayes'\n",
    "elif method == '3':\n",
    "  clas = 'neural'\n",
    "else:\n",
    "  print(\"PLEASE CHOOSE A CLASSIFICATION ALGORITHM\")"
   ]
  },
  {
   "cell_type": "markdown",
   "metadata": {
    "id": "cyT7Fx8d4ZGj"
   },
   "source": [
    "## Run classification algorithm with proper parameters set up:"
   ]
  },
  {
   "cell_type": "code",
   "execution_count": null,
   "metadata": {
    "executionInfo": {
     "elapsed": 13297,
     "status": "aborted",
     "timestamp": 1606844720332,
     "user": {
      "displayName": "Gerardo Licon",
      "photoUrl": "",
      "userId": "12009503027465810682"
     },
     "user_tz": 360
    },
    "id": "h3rxTdLwShy3"
   },
   "outputs": [],
   "source": [
    "if clas == 'knn':\n",
    "  #Get number of neighbors, k\n",
    "  k = int(input(\"For KNN, provide number of neighbors (default = 3): \\n\") or \"3\")\n",
    "  knns.run(file_name, target, k)\n",
    "elif clas == 'bayes':\n",
    "  print(\"Gerardos Bayes algo\")\n",
    "elif clas == 'neural':\n",
    "  print(\"For Nueral Networks, please provide\")\n",
    "  #Learning rate\n",
    "  lr = float(input(\"Learni3ng rate (default = 0.15): \\n\") or \"0.15\")\n",
    "  #Number of iterations over data\n",
    "  epochs = int(input(\"Number of epochs (default = 100): \\n\") or \"100\")\n",
    "  #Number of layeres\n",
    "  layers = int(input(\"Number of hidden layers (default = 2): \\n\") or \"2\")\n",
    "  \n",
    "  #To store number of neurons in each layer\n",
    "  no_nodes = []\n",
    "\n",
    "  for i in range(1, layers+1):\n",
    "    #Number of neurons in each layer\n",
    "    no_node = int(input(\"Number of nodes in layer %d (default = 5): \\n\" % i ) or \"5\")\n",
    "    no_nodes.append(no_node)\n",
    "\n",
    "  neural_network.run(file_name, target, lr, epochs, no_nodes)"
   ]
  },
  {
   "cell_type": "code",
   "execution_count": null,
   "metadata": {
    "executionInfo": {
     "elapsed": 13295,
     "status": "aborted",
     "timestamp": 1606844720333,
     "user": {
      "displayName": "Gerardo Licon",
      "photoUrl": "",
      "userId": "12009503027465810682"
     },
     "user_tz": 360
    },
    "id": "temvL2cK8ccD"
   },
   "outputs": [],
   "source": []
  }
 ],
 "metadata": {
  "colab": {
   "collapsed_sections": [],
   "name": "DM.ipynb",
   "provenance": [],
   "toc_visible": true
  },
  "kernelspec": {
   "display_name": "Python 3",
   "language": "python",
   "name": "python3"
  },
  "language_info": {
   "codemirror_mode": {
    "name": "ipython",
    "version": 3
   },
   "file_extension": ".py",
   "mimetype": "text/x-python",
   "name": "python",
   "nbconvert_exporter": "python",
   "pygments_lexer": "ipython3",
   "version": "3.7.4"
  }
 },
 "nbformat": 4,
 "nbformat_minor": 1
}
