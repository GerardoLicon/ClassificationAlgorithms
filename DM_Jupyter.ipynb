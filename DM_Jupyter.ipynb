{
 "cells": [
  {
   "cell_type": "code",
   "execution_count": 37,
   "metadata": {
    "executionInfo": {
     "elapsed": 625,
     "status": "ok",
     "timestamp": 1607125699854,
     "user": {
      "displayName": "Luis Selvera",
      "photoUrl": "https://lh4.googleusercontent.com/-rVBcPq-boLM/AAAAAAAAAAI/AAAAAAAAAHo/wnMq7CC0VXc/s64/photo.jpg",
      "userId": "06256845347287711464"
     },
     "user_tz": 360
    },
    "id": "v6zeLFZaQ_mi"
   },
   "outputs": [],
   "source": [
    "import sys\n",
    "import pandas as pd\n",
    "import notebook_interface\n",
    "\n",
    "#Our implementation of classification algorithms\n",
    "import knns\n",
    "import neural_network\n",
    "import Naive\n",
    "import sklearn_implementations"
   ]
  },
  {
   "cell_type": "markdown",
   "metadata": {
    "id": "A_tJaKX_3wC0"
   },
   "source": [
    "## Input csv file name (file must be in current directory):\n",
    "### iris.csv\n",
    "### wine.csv\n",
    "### wdbc.csv (breast cancer dataset)"
   ]
  },
  {
   "cell_type": "code",
   "execution_count": 38,
   "metadata": {
    "colab": {
     "base_uri": "https://localhost:8080/"
    },
    "executionInfo": {
     "elapsed": 4042,
     "status": "ok",
     "timestamp": 1607125706279,
     "user": {
      "displayName": "Luis Selvera",
      "photoUrl": "https://lh4.googleusercontent.com/-rVBcPq-boLM/AAAAAAAAAAI/AAAAAAAAAHo/wnMq7CC0VXc/s64/photo.jpg",
      "userId": "06256845347287711464"
     },
     "user_tz": 360
    },
    "id": "bDDqWEkxX76g",
    "outputId": "4fc9b758-92d6-45d4-b7cc-c64d587e6dd8"
   },
   "outputs": [
    {
     "name": "stdout",
     "output_type": "stream",
     "text": [
      "Please select the .csv file to be used:\n",
      "[1] - Iris.csv\n",
      "[2] - wine.csv\n",
      "[3] - wdbc.csv\n",
      "[4] - Enter custom filename\n",
      "3\n"
     ]
    }
   ],
   "source": [
    "#Dataset Selection\n",
    "file_name = notebook_interface.select_dataset()"
   ]
  },
  {
   "cell_type": "markdown",
   "metadata": {
    "id": "HPJ_Lzf54KUD"
   },
   "source": [
    "## Input index of column that contains values to be predicted (index starting at 0):\n"
   ]
  },
  {
   "cell_type": "code",
   "execution_count": 39,
   "metadata": {
    "executionInfo": {
     "elapsed": 296,
     "status": "ok",
     "timestamp": 1607125710068,
     "user": {
      "displayName": "Luis Selvera",
      "photoUrl": "https://lh4.googleusercontent.com/-rVBcPq-boLM/AAAAAAAAAAI/AAAAAAAAAHo/wnMq7CC0VXc/s64/photo.jpg",
      "userId": "06256845347287711464"
     },
     "user_tz": 360
    },
    "id": "WfgcXzjc4KfU"
   },
   "outputs": [],
   "source": [
    "# Classification Column Selection\n",
    "target = notebook_interface.select_classification_value(file_name)"
   ]
  },
  {
   "cell_type": "markdown",
   "metadata": {
    "id": "6al8ev1F3k4c"
   },
   "source": [
    "## Choose classification method (enter 1, 2, or 3):\n",
    "### 1. KNN\n",
    "### 2. Bayes\n",
    "### 3. Neural Nets"
   ]
  },
  {
   "cell_type": "code",
   "execution_count": 40,
   "metadata": {
    "colab": {
     "base_uri": "https://localhost:8080/"
    },
    "executionInfo": {
     "elapsed": 4774,
     "status": "ok",
     "timestamp": 1607125716819,
     "user": {
      "displayName": "Luis Selvera",
      "photoUrl": "https://lh4.googleusercontent.com/-rVBcPq-boLM/AAAAAAAAAAI/AAAAAAAAAHo/wnMq7CC0VXc/s64/photo.jpg",
      "userId": "06256845347287711464"
     },
     "user_tz": 360
    },
    "id": "Dau30GkMRTV6",
    "outputId": "0961964b-aa56-471d-e2b3-5e72f21430d0"
   },
   "outputs": [
    {
     "name": "stdout",
     "output_type": "stream",
     "text": [
      "Available classification methods:\n",
      "1. KNN\n",
      "2. Bayes\n",
      "3. Neural Nets\n",
      "Which classification method? \n",
      "3\n"
     ]
    }
   ],
   "source": [
    "clas = notebook_interface.select_method()"
   ]
  },
  {
   "cell_type": "markdown",
   "metadata": {
    "id": "cyT7Fx8d4ZGj"
   },
   "source": [
    "## Run classification algorithm with proper parameters set up:"
   ]
  },
  {
   "cell_type": "code",
   "execution_count": 41,
   "metadata": {
    "colab": {
     "base_uri": "https://localhost:8080/"
    },
    "executionInfo": {
     "elapsed": 94614,
     "status": "ok",
     "timestamp": 1607125813051,
     "user": {
      "displayName": "Luis Selvera",
      "photoUrl": "https://lh4.googleusercontent.com/-rVBcPq-boLM/AAAAAAAAAAI/AAAAAAAAAHo/wnMq7CC0VXc/s64/photo.jpg",
      "userId": "06256845347287711464"
     },
     "user_tz": 360
    },
    "id": "h3rxTdLwShy3",
    "outputId": "8d8db3b0-ede6-4251-a88d-b3708f415fe4"
   },
   "outputs": [
    {
     "name": "stdout",
     "output_type": "stream",
     "text": [
      "For Nueral Networks, please provide\n",
      "Learning rate (default = 0.15): \n",
      "\n",
      "Number of epochs (default = 100): \n",
      "\n",
      "Number of hidden layers (default = 2): \n",
      "\n",
      "Number of nodes in layer 1 (default = 3): \n",
      "\n",
      "Number of nodes in layer 2 (default = 3): \n",
      "\n",
      "10-fold Cross-Validation Accuracy Scores\n",
      "96.4912%\n",
      "96.4912%\n",
      "96.4912%\n",
      "92.9825%\n",
      "98.2456%\n",
      "98.2456%\n",
      "98.2456%\n",
      "96.4912%\n",
      "100.0000%\n",
      "96.4286%\n",
      "Mean Accuracy: 97.0113%\n"
     ]
    }
   ],
   "source": [
    "if clas == 'knn':\n",
    "  #Get number of neighbors, k\n",
    "  k = int(input(\"For KNN, provide number of neighbors (default = 3): \\n\") or \"3\")\n",
    "  knns.run(file_name, target, k)\n",
    "elif clas == 'bayes':\n",
    "  Naive.run(file_name, target)\n",
    "elif clas == 'neural':\n",
    "  print(\"For Nueral Networks, please provide\")\n",
    "  #Learning rate\n",
    "  lr = float(input(\"Learning rate (default = 0.15): \\n\") or \"0.15\")\n",
    "  #Number of iterations over data\n",
    "  epochs = int(input(\"Number of epochs (default = 100): \\n\") or \"100\")\n",
    "  #Number of layeres\n",
    "  layers = int(input(\"Number of hidden layers (default = 2): \\n\") or \"2\")\n",
    "  \n",
    "  #To store number of neurons in each layer\n",
    "  no_nodes = []\n",
    "\n",
    "  for i in range(1, layers+1):\n",
    "    #Number of neurons in each layer\n",
    "    no_node = int(input(\"Number of nodes in layer %d (default = 3): \\n\" % i ) or \"3\")\n",
    "    no_nodes.append(no_node)\n",
    "\n",
    "  neural_network.run(file_name, target, lr, epochs, no_nodes)"
   ]
  },
  {
   "cell_type": "code",
   "execution_count": 42,
   "metadata": {
    "colab": {
     "base_uri": "https://localhost:8080/"
    },
    "executionInfo": {
     "elapsed": 1411,
     "status": "ok",
     "timestamp": 1607124689269,
     "user": {
      "displayName": "Luis Selvera",
      "photoUrl": "https://lh4.googleusercontent.com/-rVBcPq-boLM/AAAAAAAAAAI/AAAAAAAAAHo/wnMq7CC0VXc/s64/photo.jpg",
      "userId": "06256845347287711464"
     },
     "user_tz": 360
    },
    "id": "temvL2cK8ccD",
    "outputId": "0eb8a8eb-71f6-48a9-a7c2-ed47f64d8124"
   },
   "outputs": [
    {
     "name": "stdout",
     "output_type": "stream",
     "text": [
      "Iris Results\n",
      "\n",
      "KNN\n",
      "10-fold Cross-Validation Accuracy Scores:  [100.          93.33333333 100.          93.33333333  86.66666667\n",
      " 100.          93.33333333 100.         100.         100.        ]\n",
      "Mean Accuracy: 96.6667%\n",
      "\n",
      "Naive Bayes\n",
      "10-fold Cross-Validation Accuracy Scores:  [100.          93.33333333 100.          93.33333333  86.66666667\n",
      " 100.          93.33333333 100.         100.         100.        ]\n",
      "Mean Accuracy: 96.6667%\n",
      "\n",
      "Neural Networks\n",
      "10-fold Cross-Validation Accuracy Scores:  [100.         100.         100.         100.          86.66666667\n",
      " 100.          86.66666667 100.         100.         100.        ]\n",
      "Mean Accuracy: 97.3333%\n",
      "\n",
      "Wine Results\n",
      "KNN\n",
      "10-fold Cross-Validation Accuracy Scores:  [68.42105263 55.55555556 72.22222222 66.66666667 66.66666667 66.66666667\n",
      " 72.22222222 77.77777778 88.23529412 87.5       ]\n",
      "Mean Accuracy: 72.1934%\n",
      "\n",
      "Naive Bayes\n",
      "10-fold Cross-Validation Accuracy Scores:  [ 89.47368421  88.88888889 100.          94.44444444  94.44444444\n",
      " 100.         100.          94.44444444 100.         100.        ]\n",
      "Mean Accuracy: 96.1696%\n",
      "\n",
      "Neural Networks\n",
      "10-fold Cross-Validation Accuracy Scores:  [ 31.57894737  33.33333333  72.22222222  83.33333333  77.77777778\n",
      "  44.44444444  88.88888889  66.66666667 100.         100.        ]\n",
      "Mean Accuracy: 69.8246%\n",
      "\n",
      "KNN\n",
      "10-fold Cross-Validation Accuracy Scores:  [91.37931034 86.20689655 89.47368421 94.73684211 94.73684211 94.73684211\n",
      " 96.49122807 94.64285714 91.07142857 92.85714286]\n",
      "Mean Accuracy: 92.6333%\n",
      "\n",
      "Naive Bayes\n",
      "10-fold Cross-Validation Accuracy Scores:  [94.82758621 87.93103448 89.47368421 92.98245614 94.73684211 98.24561404\n",
      " 92.98245614 96.42857143 94.64285714 96.42857143]\n",
      "Mean Accuracy: 93.8680%\n",
      "\n",
      "Neural Networks\n",
      "10-fold Cross-Validation Accuracy Scores:  [93.10344828 93.10344828 91.22807018 92.98245614 98.24561404 91.22807018\n",
      " 63.15789474 89.28571429 91.07142857 98.21428571]\n",
      "Mean Accuracy: 90.1620%\n"
     ]
    }
   ],
   "source": [
    "sklearn_implementations.run_test()"
   ]
  }
 ],
 "metadata": {
  "colab": {
   "collapsed_sections": [],
   "name": "DM_Jupyter.ipynb",
   "provenance": []
  },
  "kernelspec": {
   "display_name": "Python 3",
   "language": "python",
   "name": "python3"
  },
  "language_info": {
   "codemirror_mode": {
    "name": "ipython",
    "version": 3
   },
   "file_extension": ".py",
   "mimetype": "text/x-python",
   "name": "python",
   "nbconvert_exporter": "python",
   "pygments_lexer": "ipython3",
   "version": "3.7.4"
  }
 },
 "nbformat": 4,
 "nbformat_minor": 1
}
